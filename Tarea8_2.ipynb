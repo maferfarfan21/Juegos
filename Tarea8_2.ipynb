{
 "cells": [
  {
   "cell_type": "markdown",
   "metadata": {},
   "source": [
    "Escribe un programa en Python que funcione como una calculadora simple. El programa debe permitir al\n",
    "usuario realizar operaciones de suma, resta, multiplicación y división. Debe mostrar un menú de opciones,\n",
    "permitir al usuario seleccionar una operación y luego solicitar los números necesarios para realizar la\n",
    "operación. Después de calcular el resultado, debe mostrarlo en pantalla y permitir al usuario realizar otra\n",
    "operación o salir del programa."
   ]
  },
  {
   "cell_type": "code",
   "execution_count": 16,
   "metadata": {},
   "outputs": [
    {
     "name": "stdout",
     "output_type": "stream",
     "text": [
      "Escoge una opción: \n",
      "1, sumar\n",
      "2, restar\n",
      "3, multiplicar\n",
      "4, dividir\n",
      "5, salir\n",
      "Su resultado es de 8.0\n"
     ]
    }
   ],
   "source": [
    "a = float(input('Ingrese el primer número: '))\n",
    "b = float(input('Ingrese el segundo número: ')) \n",
    "\n",
    "\n",
    "\n",
    "def menu():\n",
    "    print('Escoge una opción: ')\n",
    "    print('1, sumar')\n",
    "    print('2, restar')\n",
    "    print('3, multiplicar')\n",
    "    print('4, dividir')\n",
    "    print('5, salir')\n",
    "    opcion = int(input('Ingrese una opción: '))\n",
    "    return opcion\n",
    "\n",
    "def sumar(a, b):\n",
    "    return a + b\n",
    "\n",
    "def restar(a, b):\n",
    "    return a - b\n",
    "\n",
    "def multiplicar(a, b):\n",
    "    return a * b\n",
    "\n",
    "def dividir(a, b):\n",
    "    if b == 0: \n",
    "        print('No se pueden dividir por cero') \n",
    "        return\n",
    "    elif b > 0:\n",
    "        return a / b\n",
    "\n",
    "def calcular(a, b, opcion):\n",
    "    if opcion == 1:\n",
    "        return sumar(a, b)\n",
    "    elif opcion == 2:\n",
    "        return restar(a, b)\n",
    "    elif opcion == 3:\n",
    "        return multiplicar(a, b)\n",
    "    elif opcion == 4:\n",
    "        return dividir(a, b)\n",
    "    else:\n",
    "        print('Opción incorrecta')\n",
    "        return 0\n",
    "    \n",
    "print(f'Su resultado es de {calcular(a, b, menu())}')\n",
    "    \n"
   ]
  },
  {
   "cell_type": "markdown",
   "metadata": {},
   "source": [
    "Escribir una función que simule una calculadora científica que permita calcular el seno,\n",
    "coseno, tangente, exponencial y logaritmo neperiano. La función preguntará al usuario\n",
    "el valor y la función a aplicar, y mostrará por pantalla una tabla con los enteros de 1 al\n",
    "valor introducido y el resultado de aplicar la función a esos enteros."
   ]
  },
  {
   "cell_type": "code",
   "execution_count": 3,
   "metadata": {},
   "outputs": [
    {
     "name": "stdout",
     "output_type": "stream",
     "text": [
      "Bienvenido a la calculadora neperiana\n",
      "1. Seno\n",
      "2. Coseno\n",
      "3. Tangente\n",
      "4. Exponencial\n",
      "5. Logaritmo\n",
      "6. Salir\n",
      "Ingrese un numero: \n",
      "El coseno de 10 es: -0.8390715290764524\n",
      "1. Seno\n",
      "2. Coseno\n",
      "3. Tangente\n",
      "4. Exponencial\n",
      "5. Logaritmo\n",
      "6. Salir\n"
     ]
    }
   ],
   "source": [
    "\n",
    "import math\n",
    "\n",
    "def main():\n",
    "    print(\"Bienvenido a la calculadora neperiana\")\n",
    "    while True:\n",
    "        print(\"1. Seno\")\n",
    "        print(\"2. Coseno\")\n",
    "        print(\"3. Tangente\")\n",
    "        print(\"4. Exponencial\")\n",
    "        print(\"5. Logaritmo\")\n",
    "        print(\"6. Salir\")\n",
    "        opcion = int(input(\"Ingrese una opcion: \"))\n",
    "        if opcion == 1:\n",
    "            print(\"Ingrese un numero: \")\n",
    "            numero = int(input())\n",
    "            print(f\"El seno de {numero} es: {math.sin(numero)}\")\n",
    "        elif opcion == 2:\n",
    "            print(\"Ingrese un numero: \")\n",
    "            numero = int(input())\n",
    "            print(f\"El coseno de {numero} es: {math.cos(numero)}\")\n",
    "        elif opcion == 3:\n",
    "            print(\"Ingrese un numero: \")\n",
    "            numero = int(input())\n",
    "            print(f\"La tangente de {numero} es: {math.tan(numero)}\")\n",
    "        elif opcion == 4:\n",
    "            print(\"Ingrese un numero: \")\n",
    "            numero = int(input())\n",
    "            print(f\"El exponencial de {numero} es: {math.exp(numero)}\")\n",
    "        elif opcion == 5:\n",
    "            print(\"Ingrese un numero: \")\n",
    "            numero = int(input())\n",
    "            print(f\"El logaritmo de {numero} es: {math.log(numero)}\")\n",
    "        elif opcion == 6:\n",
    "            break\n",
    "       \n",
    "   \n",
    "main()\n"
   ]
  },
  {
   "cell_type": "markdown",
   "metadata": {},
   "source": [
    "Escribir una función que reciba otra función booleana y una lista, y devuelva otra lista\n",
    "con los elementos de la lista que devuelvan True al aplicarles la función booleana."
   ]
  },
  {
   "cell_type": "code",
   "execution_count": 6,
   "metadata": {},
   "outputs": [
    {
     "data": {
      "text/plain": [
       "[2, 4, 6, 8, 10]"
      ]
     },
     "execution_count": 6,
     "metadata": {},
     "output_type": "execute_result"
    }
   ],
   "source": [
    "def filter_list(func, lst):\n",
    "    return [x for x in lst if func(x)]\n",
    "filter_list(lambda x: x % 2 == 0, [1, 2, 3, 4, 5, 6, 7, 8, 9, 10])\n"
   ]
  },
  {
   "cell_type": "code",
   "execution_count": 20,
   "metadata": {},
   "outputs": [
    {
     "data": {
      "text/plain": [
       "{'Maduro': 2, 'come': 1}"
      ]
     },
     "execution_count": 20,
     "metadata": {},
     "output_type": "execute_result"
    }
   ],
   "source": [
    "a = input(\"Ingrese una frase: \")\n",
    "def palabras(frase):\n",
    "    dic = {}\n",
    "    for palabra in frase.split():\n",
    "        dic[palabra] = dic.get(palabra, 0) + 1\n",
    "    return dic\n",
    "palabras(a) \n",
    "\n",
    "\n"
   ]
  },
  {
   "cell_type": "code",
   "execution_count": null,
   "metadata": {},
   "outputs": [],
   "source": []
  }
 ],
 "metadata": {
  "kernelspec": {
   "display_name": "Python 3",
   "language": "python",
   "name": "python3"
  },
  "language_info": {
   "codemirror_mode": {
    "name": "ipython",
    "version": 3
   },
   "file_extension": ".py",
   "mimetype": "text/x-python",
   "name": "python",
   "nbconvert_exporter": "python",
   "pygments_lexer": "ipython3",
   "version": "3.10.0"
  },
  "orig_nbformat": 4
 },
 "nbformat": 4,
 "nbformat_minor": 2
}
