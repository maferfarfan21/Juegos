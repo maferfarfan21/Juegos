{
 "cells": [
  {
   "cell_type": "markdown",
   "metadata": {},
   "source": [
    "Ejercicio 1\n",
    "Dada una lista de números, encuentra la suma de los cubos de los números impares en la lista. Utiliza map, filter,\n",
    "y reduce para resolver este problema.\n",
    "\n",
    "numbers = [1, 2, 3, 4, 5]"
   ]
  },
  {
   "cell_type": "code",
   "execution_count": null,
   "metadata": {},
   "outputs": [],
   "source": [
    "from functools import reduce\n",
    "\n",
    "result = reduce(lambda x, y: x + y, filter(lambda x: x % 2 == 1, list(map(lambda x: x ** 3, [1, 2, 3, 4, 5]))))\n",
    "print('La suma de los cubos de los números impares en la lista es: ', result)"
   ]
  },
  {
   "cell_type": "markdown",
   "metadata": {},
   "source": [
    "Ejercicio 2\n",
    "Dada una lista de tuplas, donde cada tupla contiene un nombre de persona y una lista de sus calificaciones,\n",
    "encuentra la persona con el promedio más alto de calificaciones mayores o iguales a 50. Si hay empates,\n",
    "devuelva una lista con los nombres de todas las personas empatadas."
   ]
  },
  {
   "cell_type": "code",
   "execution_count": 1,
   "metadata": {},
   "outputs": [
    {
     "name": "stdout",
     "output_type": "stream",
     "text": [
      "[57.5, 84.75, 60.0, 86.75]\n",
      "86.75\n",
      "Michael\n"
     ]
    }
   ],
   "source": [
    "data = [\n",
    "('John', [45, 55, 60, 70]),\n",
    "('Emily', [88, 76, 95, 80]),\n",
    "('Sophia', [60, 65, 45, 70]),\n",
    "('Michael', [80, 90, 92, 85])\n",
    "]\n",
    "prom_student = list(map(lambda x: sum(x[1]) / len(x[1]), data))\n",
    "\n",
    "\n",
    "prom_student = list(filter(lambda x: x > 50, prom_student))\n",
    "print(prom_student)\n",
    "\n",
    "print(max(prom_student)) \n",
    "\n",
    "print(data[prom_student.index(max(prom_student))][0])\n",
    "\n"
   ]
  },
  {
   "cell_type": "markdown",
   "metadata": {},
   "source": [
    "Supongamos que tienes una lista de empleados, cada uno con un nombre, un conjunto de habilidades y una lista\n",
    "de proyectos en los que han trabajado. Tu tarea es encontrar al empleado que ha trabajado en el mayor número\n",
    "de proyectos, pero solo si también posee ciertas habilidades clave."
   ]
  },
  {
   "cell_type": "code",
   "execution_count": 2,
   "metadata": {},
   "outputs": [
    {
     "name": "stdout",
     "output_type": "stream",
     "text": [
      "{'name': 'Dave', 'skills': ['Python', 'AWS'], 'projects': ['A', 'F', 'G']}\n"
     ]
    }
   ],
   "source": [
    "from functools import reduce\n",
    "\n",
    "employees = [\n",
    "    {'name': 'Alice', 'skills': ['Python', 'SQL'], 'projects': ['A', 'B']},\n",
    "    {'name': 'Bob', 'skills': ['Java', 'Git'], 'projects': ['C', 'D', 'E']},\n",
    "    {'name': 'Eve', 'skills': ['Python', 'Git', 'AWS'], 'projects': ['F']},\n",
    "    {'name': 'Dave', 'skills': ['Python', 'AWS'], 'projects': ['A', 'F', 'G']},\n",
    "]\n",
    "\n",
    "key_skills = ['Python', 'AWS']\n",
    "\n",
    "def check_employee(employee, key_skills):\n",
    "    return reduce(lambda x, y: x and y, [skill in employee['skills'] for skill in key_skills])\n",
    "\n",
    "def max_projects(employees):\n",
    "    return reduce(lambda x, y: x if len(x['projects']) > len(y['projects']) else y, employees)\n",
    "\n",
    "print(max_projects(employees))"
   ]
  },
  {
   "cell_type": "code",
   "execution_count": null,
   "metadata": {},
   "outputs": [],
   "source": []
  }
 ],
 "metadata": {
  "kernelspec": {
   "display_name": "Python 3",
   "language": "python",
   "name": "python3"
  },
  "language_info": {
   "codemirror_mode": {
    "name": "ipython",
    "version": 3
   },
   "file_extension": ".py",
   "mimetype": "text/x-python",
   "name": "python",
   "nbconvert_exporter": "python",
   "pygments_lexer": "ipython3",
   "version": "3.10.0"
  },
  "orig_nbformat": 4
 },
 "nbformat": 4,
 "nbformat_minor": 2
}
