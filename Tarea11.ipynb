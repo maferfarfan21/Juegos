{
 "cells": [
  {
   "cell_type": "markdown",
   "metadata": {},
   "source": [
    "Realizar un ejercicio que contemple diferentes algoritmos para calcular un factorial.\n",
    "- Por función standar\n",
    "- Por modulo Math (ABC)\n",
    "- Usando reduce() con lambda\n",
    "- Recursividad"
   ]
  },
  {
   "cell_type": "code",
   "execution_count": 1,
   "metadata": {},
   "outputs": [
    {
     "name": "stdout",
     "output_type": "stream",
     "text": [
      "Factorial por función estándar: 120\n",
      "Factorial con el módulo math: 120\n",
      "Factorial usando reduce() con lambda: 120\n",
      "Factorial por recursividad: 120\n"
     ]
    }
   ],
   "source": [
    "#Por función standar\n",
    "\n",
    "def factorial_standar(n):\n",
    "    if n == 0:\n",
    "        return 1\n",
    "    else:rterterte\n",
    "        return n * factorial_standar(n - 1)\n",
    "\n",
    "resultado_standar = factorial_standar(5)\n",
    "print(\"Factorial por función estándar:\", resultado_standar)\n",
    "\n",
    "#Por modulo Math (ABC)\n",
    "\n",
    "import math\n",
    "\n",
    "resultado_math = math.factorial(5)\n",
    "print(\"Factorial con el módulo math:\", resultado_math)\n",
    "\n",
    "#Usando reduce() con lambda\n",
    "\n",
    "from functools import reduce\n",
    "resultado_reduce = reduce(lambda x, y: x * y, range(1, 6))\n",
    "print(\"Factorial usando reduce() con lambda:\", resultado_reduce)\n",
    "\n",
    "#Recursividad\n",
    "def factorial_recursivo(n):\n",
    "    if n == 0:\n",
    "        return 1\n",
    "    else:\n",
    "        return n * factorial_recursivo(n - 1)\n",
    "\n",
    "resultado_recursivo = factorial_recursivo(5)\n",
    "print(\"Factorial por recursividad:\", resultado_recursivo)\n",
    "\n"
   ]
  }
 ],
 "metadata": {
  "kernelspec": {
   "display_name": "Python 3",
   "language": "python",
   "name": "python3"
  },
  "language_info": {
   "codemirror_mode": {
    "name": "ipython",
    "version": 3
   },
   "file_extension": ".py",
   "mimetype": "text/x-python",
   "name": "python",
   "nbconvert_exporter": "python",
   "pygments_lexer": "ipython3",
   "version": "3.10.0"
  },
  "orig_nbformat": 4
 },
 "nbformat": 4,
 "nbformat_minor": 2
}
