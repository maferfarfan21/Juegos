{
 "cells": [
  {
   "cell_type": "markdown",
   "metadata": {},
   "source": [
    "Ejercicio 6\n",
    "Escribir una función reciba una lista de notas y devuelva la lista de calificaciones\n",
    "correspondientes a esas notas."
   ]
  },
  {
   "cell_type": "code",
   "execution_count": 8,
   "metadata": {},
   "outputs": [
    {
     "name": "stdout",
     "output_type": "stream",
     "text": [
      "Calificaciones correspondientes a las notas:\n",
      "Nota: 8.5 => Calificación: Notable\n",
      "Nota: 6.0 => Calificación: Aprobado\n",
      "Nota: 9.7 => Calificación: Sobresaliente\n",
      "Nota: 4.2 => Calificación: Desaprobado\n",
      "Nota: 7.8 => Calificación: Notable\n",
      "Nota: 3.9 => Calificación: Desaprobado\n"
     ]
    }
   ],
   "source": [
    "notas = [8.5, 6.0, 9.7, 4.2, 7.8, 3.9]\n",
    "\n",
    "def conversor(notas):\n",
    "    calificaciones = []\n",
    "    \n",
    "    for nota in notas:\n",
    "        if nota >= 9.0:\n",
    "            calificaciones.append(\"Sobresaliente\")\n",
    "        elif nota >= 7.0:\n",
    "            calificaciones.append(\"Notable\")\n",
    "        elif nota >= 5.0:\n",
    "            calificaciones.append(\"Aprobado\")\n",
    "        else:\n",
    "            calificaciones.append(\"Desaprobado\")\n",
    "    \n",
    "    return calificaciones\n",
    "\n",
    "\n",
    "calificaciones = conversor(notas)\n",
    "print(\"Calificaciones correspondientes a las notas:\")\n",
    "for i, nota in enumerate(notas):\n",
    "    print(\"Nota: {:.1f} => Calificación: {}\".format(nota, calificaciones[i]))\n"
   ]
  },
  {
   "cell_type": "markdown",
   "metadata": {},
   "source": [
    "Ejercicio 7\n",
    "Escribir una función reciba un diccionario con las asignaturas y las notas de un alumno\n",
    "y devuelva otro diccionario con las asignaturas en mayúsculas y las calificaciones\n",
    "correspondientes a las notas."
   ]
  },
  {
   "cell_type": "code",
   "execution_count": 9,
   "metadata": {},
   "outputs": [
    {
     "name": "stdout",
     "output_type": "stream",
     "text": [
      "Calificaciones Convertidas:\n",
      "MATEMÁTICAS: 8.5\n",
      "HISTORIA: 6.0\n",
      "INGLÉS: 8.0\n",
      "CIENCIAS: 9.0\n",
      "ARTE: 5.5\n"
     ]
    }
   ],
   "source": [
    "notas_mafer = {\n",
    "    'Matemáticas': 8.5,\n",
    "    'Historia': 6.0,\n",
    "    'Inglés': 8.0,\n",
    "    'Ciencias': 9.0,\n",
    "    'Arte': 5.5\n",
    "}\n",
    "\n",
    "def convertir_asignaturas_y_notas(diccionario_notas):\n",
    "    calificaciones_convertidas = {}\n",
    "    \n",
    "    for asignatura, nota in diccionario_notas.items():\n",
    "        calificaciones_convertidas[asignatura.upper()] = nota\n",
    "    \n",
    "    return calificaciones_convertidas\n",
    "\n",
    "\n",
    "\n",
    "calificaciones_convertidas = convertir_asignaturas_y_notas(notas_mafer)\n",
    "print(\"Calificaciones Convertidas:\")\n",
    "for asignatura, nota in calificaciones_convertidas.items():\n",
    "    print(\"{}: {}\".format(asignatura, nota))\n"
   ]
  },
  {
   "cell_type": "markdown",
   "metadata": {},
   "source": [
    "Ejercicio 8\n",
    "Escribir una función reciba un diccionario con las asignaturas y las notas de un alumno\n",
    "y devuelva otro diccionario con las asignaturas en mayúsculas y las calificaciones\n",
    "correspondientes a las notas aprobadas."
   ]
  },
  {
   "cell_type": "code",
   "execution_count": 11,
   "metadata": {},
   "outputs": [
    {
     "name": "stdout",
     "output_type": "stream",
     "text": [
      "Calificaciones Aprobadas:\n",
      "MATEMÁTICAS: 8.5\n",
      "INGLÉS: 8.0\n"
     ]
    }
   ],
   "source": [
    "notas_mafer = {\n",
    "    'Matemáticas': 8.5,\n",
    "    'Historia': 2.0,\n",
    "    'Inglés': 8.0,\n",
    "    'Ciencias': 2.0,\n",
    "    'Arte': 2.5\n",
    "}\n",
    "\n",
    "\n",
    "def filtrar_notas_aprobadas(notas_alumno):\n",
    "    calificaciones_aprobadas = {}\n",
    "    \n",
    "    for asignatura, nota in notas_alumno.items():\n",
    "        if nota >= 5.0:  # Supongamos que la nota de aprobación es 5.0\n",
    "            calificaciones_aprobadas[asignatura.upper()] = nota\n",
    "    \n",
    "    return calificaciones_aprobadas\n",
    "\n",
    "\n",
    "calificaciones_aprobadas = filtrar_notas_aprobadas(notas_mafer)\n",
    "print(\"Calificaciones Aprobadas:\")\n",
    "for asignatura, nota in calificaciones_aprobadas.items():\n",
    "    print(\"{}: {}\".format(asignatura, nota))\n"
   ]
  },
  {
   "cell_type": "markdown",
   "metadata": {},
   "source": [
    "Ejercicio 9\n",
    "Escribir una función que calcule el módulo de un vector."
   ]
  },
  {
   "cell_type": "code",
   "execution_count": 4,
   "metadata": {},
   "outputs": [
    {
     "name": "stdout",
     "output_type": "stream",
     "text": [
      "El módulo del vector (3, 4, 5) es 7.07\n"
     ]
    }
   ],
   "source": [
    "import math\n",
    "\n",
    "def calcular_modulo_vector(x, y, z):\n",
    "    modulo = math.sqrt(x**2 + y**2 + z**2)\n",
    "    return modulo\n",
    "\n",
    "x = 3\n",
    "y = 4\n",
    "z = 5\n",
    "\n",
    "modulo = calcular_modulo_vector(x, y, z)\n",
    "print(\"El módulo del vector ({}, {}, {}) es {:.2f}\".format(x, y, z, modulo))\n"
   ]
  },
  {
   "cell_type": "markdown",
   "metadata": {},
   "source": [
    "Ejercicio 10\n",
    "Una inmobiliaria de una ciudad maneja una lista de inmuebles como la siguiente:\n",
    "[{'año': 2000, 'metros': 100, 'habitaciones': 3, 'garaje': True, 'zona': 'A'},\n",
    "{'año': 2012, 'metros': 60, 'habitaciones': 2, 'garaje': True, 'zona': 'B'},\n",
    "{'año': 1980, 'metros': 120, 'habitaciones': 4, 'garaje': False, 'zona': 'A'},\n",
    "{'año': 2005, 'metros': 75, 'habitaciones': 3, 'garaje': True, 'zona': 'B'},\n",
    "{'año': 2015, 'metros': 90, 'habitaciones': 2, 'garaje': False, 'zona': 'A'}]\n",
    "Construir una función que permita hacer búsqueda de inmuebles en función de un\n",
    "presupuesto dado. La función recibirá como entrada la lista de inmuebles y un precio,\n",
    "y devolverá otra lista con los inmuebles cuyo precio sea menor o igual que el dado. Los\n",
    "inmuebles de la lista que se devuelva deben incorporar un nuevo par a cada\n",
    "diccionario con el precio del inmueble, donde el precio de un inmueble se calcula con\n",
    "las siguiente fórmula en función de la zona:\n",
    " Zona A: precio = (metros * 1000 + habitaciones * 5000 + garaje * 15000) * (1-\n",
    "antiguedad/100)\n",
    " Zona B: precio = (metros * 1000 + habitaciones * 5000 + garaje * 15000) * (1-\n",
    "antiguedad/100) * 1.5"
   ]
  },
  {
   "cell_type": "code",
   "execution_count": 15,
   "metadata": {},
   "outputs": [
    {
     "name": "stdout",
     "output_type": "stream",
     "text": [
      "\n",
      "Inmuebles encontrados dentro del presupuesto:\n",
      "Año: 1980, Metros: 120, Habitaciones: 4, Garaje: False, Zona: A, Precio: $79800.00\n",
      "Año: 2015, Metros: 90, Habitaciones: 2, Garaje: False, Zona: A, Precio: $92000.00\n"
     ]
    }
   ],
   "source": [
    "inmuebles = [\n",
    "    {'año': 2000, 'metros': 100, 'habitaciones': 3, 'garaje': True, 'zona': 'A'},\n",
    "    {'año': 2012, 'metros': 60, 'habitaciones': 2, 'garaje': True, 'zona': 'B'},\n",
    "    {'año': 1980, 'metros': 120, 'habitaciones': 4, 'garaje': False, 'zona': 'A'},\n",
    "    {'año': 2005, 'metros': 75, 'habitaciones': 3, 'garaje': True, 'zona': 'B'},\n",
    "    {'año': 2015, 'metros': 90, 'habitaciones': 2, 'garaje': False, 'zona': 'A'}\n",
    "]\n",
    "\n",
    "\n",
    "presupuesto_usuario = float(input(\"Ingrese su presupuesto: \"))\n",
    "\n",
    "\n",
    "def calcular_precio_inmueble(inmueble):\n",
    "    zona = inmueble['zona']\n",
    "    metros = inmueble['metros']\n",
    "    habitaciones = inmueble['habitaciones']\n",
    "    garaje = inmueble['garaje']\n",
    "    antiguedad = 2023 - inmueble['año']\n",
    "    \n",
    "    if zona == 'A':\n",
    "        precio = (metros * 1000 + habitaciones * 5000 + garaje * 15000) * (1 - antiguedad / 100)\n",
    "    elif zona == 'B':\n",
    "        precio = (metros * 1000 + habitaciones * 5000 + garaje * 15000) * (1 - antiguedad / 100) * 1.5\n",
    "    else:\n",
    "        precio = 0  \n",
    "    return precio\n",
    "\n",
    "def buscar_inmuebles_por_presupuesto(lista_inmuebles, presupuesto):\n",
    "    inmuebles_encontrados = []\n",
    "    \n",
    "    for inmueble in lista_inmuebles:\n",
    "        precio = calcular_precio_inmueble(inmueble)\n",
    "        if precio <= presupuesto:\n",
    "            inmueble['precio'] = precio\n",
    "            inmuebles_encontrados.append(inmueble)\n",
    "    \n",
    "    return inmuebles_encontrados\n",
    "\n",
    "\n",
    "\n",
    "inmuebles_encontrados = buscar_inmuebles_por_presupuesto(inmuebles, presupuesto_usuario)\n",
    "\n",
    "print(\"\\nInmuebles encontrados dentro del presupuesto:\")\n",
    "for inmueble in inmuebles_encontrados:\n",
    "    print(\"Año: {}, Metros: {}, Habitaciones: {}, Garaje: {}, Zona: {}, Precio: ${:.2f}\".format(inmueble['año'], inmueble['metros'], inmueble['habitaciones'],inmueble['garaje'], inmueble['zona'], inmueble['precio']))\n",
    "    \n"
   ]
  },
  {
   "cell_type": "markdown",
   "metadata": {},
   "source": [
    "Escribir una función que reciba una muestra de números y devuelva los valores\n",
    "atípicos, es decir, los valores cuya puntuación típica sea mayor que 3 o menor que -3.\n",
    "Nota: La puntuación típica de un valor se obtiene restando la media y dividiendo por la\n",
    "desviación típica de la muestra.\n"
   ]
  },
  {
   "cell_type": "code",
   "execution_count": 2,
   "metadata": {},
   "outputs": [
    {
     "name": "stdout",
     "output_type": "stream",
     "text": [
      "Valores atípicos: []\n"
     ]
    }
   ],
   "source": [
    "def calcular_media(muestra):\n",
    "    total = sum(muestra)\n",
    "    return total / len(muestra)\n",
    "\n",
    "def calcular_desviacion_estandar(muestra, media):\n",
    "    suma_cuadrados = sum((x - media) ** 2 for x in muestra)\n",
    "    varianza = suma_cuadrados / len(muestra)\n",
    "    desviacion_estandar = varianza ** 0.5\n",
    "    return desviacion_estandar\n",
    "\n",
    "def encontrar_valores_atipicos(muestra):\n",
    "    media = calcular_media(muestra)\n",
    "    desviacion_estandar = calcular_desviacion_estandar(muestra, media)\n",
    "    \n",
    "    valores_atipicos = []\n",
    "    \n",
    "    for valor in muestra:\n",
    "        puntuacion_tipica = (valor - media) / desviacion_estandar\n",
    "        if puntuacion_tipica > 3 or puntuacion_tipica < -3:\n",
    "            valores_atipicos.append(valor)\n",
    "    \n",
    "    return valores_atipicos\n",
    "\n",
    "muestra = [1, 2 ,3, 4, 10, 12, 14, 8, 9, 100, 110, 115, 120, 125, 200]\n",
    "valores_atipicos = encontrar_valores_atipicos(muestra)\n",
    "print(\"Valores atípicos:\", valores_atipicos)\n"
   ]
  }
 ],
 "metadata": {
  "kernelspec": {
   "display_name": "Python 3",
   "language": "python",
   "name": "python3"
  },
  "language_info": {
   "codemirror_mode": {
    "name": "ipython",
    "version": 3
   },
   "file_extension": ".py",
   "mimetype": "text/x-python",
   "name": "python",
   "nbconvert_exporter": "python",
   "pygments_lexer": "ipython3",
   "version": "3.10.0"
  },
  "orig_nbformat": 4
 },
 "nbformat": 4,
 "nbformat_minor": 2
}
