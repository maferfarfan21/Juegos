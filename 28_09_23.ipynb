{
 "cells": [
  {
   "cell_type": "code",
   "execution_count": 22,
   "metadata": {},
   "outputs": [
    {
     "ename": "OperationalError",
     "evalue": "database is locked",
     "output_type": "error",
     "traceback": [
      "\u001b[0;31m---------------------------------------------------------------------------\u001b[0m",
      "\u001b[0;31mOperationalError\u001b[0m                          Traceback (most recent call last)",
      "Cell \u001b[0;32mIn[22], line 10\u001b[0m\n\u001b[1;32m      7\u001b[0m cursor\u001b[39m.\u001b[39mexecute(\u001b[39m'''\u001b[39m\u001b[39mCREATE TABLE IF NOT EXISTS empleados (id INTEGER PRIMARY KEY, nombre TEXT, salario REAL)\u001b[39m\u001b[39m'''\u001b[39m)\n\u001b[1;32m      9\u001b[0m conn\u001b[39m.\u001b[39mcommit()\n\u001b[0;32m---> 10\u001b[0m cursor\u001b[39m.\u001b[39;49mexecute((\u001b[39m'\u001b[39;49m\u001b[39mINSERT INTO empleados (nombre, salario) VALUES (?, ?)\u001b[39;49m\u001b[39m'\u001b[39;49m), (\u001b[39m'\u001b[39;49m\u001b[39mJuan Pérez\u001b[39;49m\u001b[39m'\u001b[39;49m, \u001b[39m45000.00\u001b[39;49m))\n",
      "\u001b[0;31mOperationalError\u001b[0m: database is locked"
     ]
    }
   ],
   "source": [
    "import sqlite3\n",
    "\n",
    "conn = sqlite3.connect('mydb.db')\n",
    "\n",
    "cursor = conn.cursor() #crea cursor para ejecutar consultas\n",
    "\n",
    "cursor.execute('''CREATE TABLE IF NOT EXISTS empleados (id INTEGER PRIMARY KEY, nombre TEXT, salario REAL)''')\n",
    "\n",
    "conn.commit()\n",
    "cursor.execute(('INSERT INTO empleados (nombre, salario) VALUES (?, ?)'), ('Juan Pérez', 45000.00))\n",
    "\n",
    "\n",
    "\n",
    "\n",
    "\n",
    "\n"
   ]
  }
 ],
 "metadata": {
  "kernelspec": {
   "display_name": "Python 3",
   "language": "python",
   "name": "python3"
  },
  "language_info": {
   "codemirror_mode": {
    "name": "ipython",
    "version": 3
   },
   "file_extension": ".py",
   "mimetype": "text/x-python",
   "name": "python",
   "nbconvert_exporter": "python",
   "pygments_lexer": "ipython3",
   "version": "3.10.0"
  },
  "orig_nbformat": 4
 },
 "nbformat": 4,
 "nbformat_minor": 2
}
