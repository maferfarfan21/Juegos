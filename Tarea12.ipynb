{
 "cells": [
  {
   "cell_type": "markdown",
   "metadata": {},
   "source": [
    "Ejercicio 1\n",
    "Realizar un programa que conste de una clase llamada Alumno que tenga como\n",
    "atributos el nombre y la nota del alumno. Definir los métodos para inicializar sus\n",
    "atributos, imprimirlos y mostrar un mensaje con el resultado de la nota y si ha\n",
    "aprobado o no."
   ]
  },
  {
   "cell_type": "code",
   "execution_count": 2,
   "metadata": {},
   "outputs": [
    {
     "name": "stdout",
     "output_type": "stream",
     "text": [
      "Nombre del alumno: Mafer\n",
      "Nota del alumno: 4.3\n",
      "El alumno ha reprobado.\n"
     ]
    }
   ],
   "source": [
    "class Alumno:\n",
    "    def __init__(self, nombre, nota):\n",
    "        self.nombre = nombre\n",
    "        self.nota = nota\n",
    "\n",
    "    def imprimir_informacion(self):\n",
    "        print(\"Nombre del alumno:\", self.nombre)\n",
    "        print(\"Nota del alumno:\", self.nota)\n",
    "\n",
    "    def determinar_aprobacion(self):\n",
    "        if self.nota >= 5.0:\n",
    "            mensaje = \"El alumno ha aprobado.\"\n",
    "        else:\n",
    "            mensaje = \"El alumno ha reprobado.\"\n",
    "        return mensaje\n",
    "\n",
    "alumno1 = Alumno(\"Mafer\", 4.3)\n",
    "\n",
    "alumno1.imprimir_informacion()\n",
    "\n",
    "resultado = alumno1.determinar_aprobacion()\n",
    "print(resultado)"
   ]
  },
  {
   "cell_type": "markdown",
   "metadata": {},
   "source": [
    "Ejercicio 2\n",
    "Realizar un programa que tenga una clase Persona con las siguientes características. La\n",
    "clase tendrá como atributos el nombre y la edad de una persona. Implementar los\n",
    "métodos necesarios para inicializar los atributos, mostrar los datos e indicar si la\n",
    "persona es mayor de edad o no."
   ]
  },
  {
   "cell_type": "code",
   "execution_count": 4,
   "metadata": {},
   "outputs": [
    {
     "name": "stdout",
     "output_type": "stream",
     "text": [
      "Nombre: Mafer\n",
      "Edad: 15\n",
      "La persona no es mayor de edad.\n"
     ]
    }
   ],
   "source": [
    "class Persona:\n",
    "    def __init__(self, nombre, edad):\n",
    "        self.nombre = nombre\n",
    "        self.edad = edad\n",
    "\n",
    "    def mostrar_datos(self):\n",
    "        print(\"Nombre:\", self.nombre)\n",
    "        print(\"Edad:\", self.edad)\n",
    "\n",
    "    def es_mayor_de_edad(self):\n",
    "        if self.edad >= 18:\n",
    "            return True\n",
    "        else:\n",
    "            return False\n",
    "\n",
    "persona_respuesta = Persona(\"Mafer\", 15)\n",
    "\n",
    "persona_respuesta.mostrar_datos()\n",
    "\n",
    "if persona_respuesta.es_mayor_de_edad():\n",
    "    print(\"La persona es mayor de edad.\")\n",
    "else:\n",
    "    print(\"La persona no es mayor de edad.\")\n"
   ]
  },
  {
   "cell_type": "markdown",
   "metadata": {},
   "source": [
    "Ejercicio 3\n",
    "Desarrollar un programa que cargue los datos de un triángulo. Implementar una clase\n",
    "con los métodos para inicializar los atributos, imprimir el valor del lado con un tamaño\n",
    "mayor y el tipo de triángulo que es (equilátero, isósceles o escaleno)."
   ]
  },
  {
   "cell_type": "code",
   "execution_count": 5,
   "metadata": {},
   "outputs": [
    {
     "name": "stdout",
     "output_type": "stream",
     "text": [
      "El lado con mayor tamaño es: 24.0\n",
      "El triángulo es de tipo: escaleno\n"
     ]
    }
   ],
   "source": [
    "class Triangulo:\n",
    "    def __init__(self, lado1, lado2, lado3):\n",
    "        self.lado1 = lado1\n",
    "        self.lado2 = lado2\n",
    "        self.lado3 = lado3\n",
    "\n",
    "    def imprimir_lado_mayor(self):\n",
    "        mayor = max(self.lado1, self.lado2, self.lado3)\n",
    "        print(\"El lado con mayor tamaño es:\", mayor)\n",
    "\n",
    "    def determinar_tipo(self):\n",
    "        if self.lado1 == self.lado2 == self.lado3:\n",
    "            tipo = \"equilátero\"\n",
    "        elif self.lado1 == self.lado2 or self.lado1 == self.lado3 or self.lado2 == self.lado3:\n",
    "            tipo = \"isósceles\"\n",
    "        else:\n",
    "            tipo = \"escaleno\"\n",
    "        return tipo\n",
    "\n",
    "lado1 = float(input(\"Ingrese el valor del primer lado: \"))\n",
    "lado2 = float(input(\"Ingrese el valor del segundo lado: \"))\n",
    "lado3 = float(input(\"Ingrese el valor del tercer lado: \"))\n",
    "\n",
    "triangulo = Triangulo(lado1, lado2, lado3)\n",
    "\n",
    "triangulo.imprimir_lado_mayor()\n",
    "\n",
    "tipo = triangulo.determinar_tipo()\n",
    "print(\"El triángulo es de tipo:\", tipo)\n"
   ]
  },
  {
   "cell_type": "markdown",
   "metadata": {},
   "source": [
    "Ejercicio 4\n",
    "Realizar un programa en el cual se declaren dos valores enteros por teclado utilizando\n",
    "el método __init__. Calcular después la suma, resta, multiplicación y división. Utilizar\n",
    "un método para cada una e imprimir los resultados obtenidos. Llamar a la clase\n",
    "Calculadora."
   ]
  },
  {
   "cell_type": "code",
   "execution_count": 6,
   "metadata": {},
   "outputs": [
    {
     "name": "stdout",
     "output_type": "stream",
     "text": [
      "Suma: 32\n",
      "Resta: 28\n",
      "Multiplicación: 60\n",
      "División: 15.0\n"
     ]
    }
   ],
   "source": [
    "class Calculadora:\n",
    "    def __init__(self, valor1, valor2):\n",
    "        self.valor1 = valor1\n",
    "        self.valor2 = valor2\n",
    "\n",
    "    def suma(self):\n",
    "        return self.valor1 + self.valor2\n",
    "\n",
    "    def resta(self):\n",
    "        return self.valor1 - self.valor2\n",
    "\n",
    "    def multiplicacion(self):\n",
    "        return self.valor1 * self.valor2\n",
    "\n",
    "    def division(self):\n",
    "        if self.valor2 != 0:\n",
    "            return self.valor1 / self.valor2\n",
    "        else:\n",
    "            return \"Error: No se puede dividir por cero.\"\n",
    "\n",
    "valor1 = int(input(\"Ingrese el primer valor entero: \"))\n",
    "valor2 = int(input(\"Ingrese el segundo valor entero: \"))\n",
    "\n",
    "calculadora = Calculadora(valor1, valor2)\n",
    "\n",
    "# Calcular y mostrar la suma, resta, multiplicación y división\n",
    "print(\"Suma:\", calculadora.suma())\n",
    "print(\"Resta:\", calculadora.resta())\n",
    "print(\"Multiplicación:\", calculadora.multiplicacion())\n",
    "print(\"División:\", calculadora.division())\n"
   ]
  },
  {
   "cell_type": "markdown",
   "metadata": {},
   "source": [
    "Ejercicio 5\n",
    "Realizar una clase que administre una agenda. Se debe almacenar para cada contacto\n",
    "el nombre, el teléfono y el email. Además deberá mostrar un menú con las siguientes\n",
    "opciones Añadir contacto\n",
    "Lista de contactos\n",
    "Buscar contacto\n",
    "Editar contacto\n",
    "Cerrar agenda"
   ]
  },
  {
   "cell_type": "code",
   "execution_count": 7,
   "metadata": {},
   "outputs": [
    {
     "name": "stdout",
     "output_type": "stream",
     "text": [
      "\n",
      "Menú de Agenda:\n",
      "1. Añadir contacto\n",
      "2. Lista de contactos\n",
      "3. Buscar contacto\n",
      "4. Editar contacto\n",
      "5. Cerrar agenda\n",
      "Contacto agregado exitosamente.\n",
      "\n",
      "Menú de Agenda:\n",
      "1. Añadir contacto\n",
      "2. Lista de contactos\n",
      "3. Buscar contacto\n",
      "4. Editar contacto\n",
      "5. Cerrar agenda\n",
      "Nombre: mafer, Teléfono: 32324234, Email: dssaasd@erewrw.com\n",
      "\n",
      "Menú de Agenda:\n",
      "1. Añadir contacto\n",
      "2. Lista de contactos\n",
      "3. Buscar contacto\n",
      "4. Editar contacto\n",
      "5. Cerrar agenda\n",
      "Opción no válida. Por favor, seleccione una opción válida.\n",
      "\n",
      "Menú de Agenda:\n",
      "1. Añadir contacto\n",
      "2. Lista de contactos\n",
      "3. Buscar contacto\n",
      "4. Editar contacto\n",
      "5. Cerrar agenda\n",
      "Opción no válida. Por favor, seleccione una opción válida.\n",
      "\n",
      "Menú de Agenda:\n",
      "1. Añadir contacto\n",
      "2. Lista de contactos\n",
      "3. Buscar contacto\n",
      "4. Editar contacto\n",
      "5. Cerrar agenda\n",
      "Agenda cerrada. ¡Hasta luego!\n"
     ]
    }
   ],
   "source": [
    "class Contacto:\n",
    "    def __init__(self, nombre, telefono, email):\n",
    "        self.nombre = nombre\n",
    "        self.telefono = telefono\n",
    "        self.email = email\n",
    "\n",
    "class Agenda:\n",
    "    def __init__(self):\n",
    "        self.contactos = []\n",
    "\n",
    "    def agregar_contacto(self, nombre, telefono, email):\n",
    "        nuevo_contacto = Contacto(nombre, telefono, email)\n",
    "        self.contactos.append(nuevo_contacto)\n",
    "        print(\"Contacto agregado exitosamente.\")\n",
    "\n",
    "    def listar_contactos(self):\n",
    "        print(\"Lista de contactos:\")\n",
    "        for contacto in self.contactos:\n",
    "            print(f\"Nombre: {contacto.nombre}, Teléfono: {contacto.telefono}, Email: {contacto.email}\")\n",
    "\n",
    "    def buscar_contacto(self, nombre):\n",
    "        for contacto in self.contactos:\n",
    "            if contacto.nombre == nombre:\n",
    "                print(f\"Nombre: {contacto.nombre}, Teléfono: {contacto.telefono}, Email: {contacto.email}\")\n",
    "                return\n",
    "        print(\"Contacto no encontrado.\")\n",
    "\n",
    "    def editar_contacto(self, nombre, nuevo_telefono, nuevo_email):\n",
    "        for contacto in self.contactos:\n",
    "            if contacto.nombre == nombre:\n",
    "                contacto.telefono = nuevo_telefono\n",
    "                contacto.email = nuevo_email\n",
    "                print(\"Contacto editado exitosamente.\")\n",
    "                return\n",
    "        print(\"Contacto no encontrado.\")\n",
    "\n",
    "# Función para mostrar el menú\n",
    "def mostrar_menu():\n",
    "    print(\"\\nMenú de Agenda:\")\n",
    "    print(\"1. Añadir contacto\")\n",
    "    print(\"2. Lista de contactos\")\n",
    "    print(\"3. Buscar contacto\")\n",
    "    print(\"4. Editar contacto\")\n",
    "    print(\"5. Cerrar agenda\")\n",
    "    return input(\"Seleccione una opción (1/2/3/4/5): \")\n",
    "\n",
    "agenda = Agenda()\n",
    "\n",
    "while True:\n",
    "    opcion = mostrar_menu()\n",
    "\n",
    "    if opcion == \"1\":\n",
    "        nombre = input(\"Ingrese el nombre del contacto: \")\n",
    "        telefono = input(\"Ingrese el teléfono del contacto: \")\n",
    "        email = input(\"Ingrese el email del contacto: \")\n",
    "        agenda.agregar_contacto(nombre, telefono, email)\n",
    "    elif opcion == \"2\":\n",
    "        agenda.listar_contactos()\n",
    "    elif opcion == \"3\":\n",
    "        nombre = input(\"Ingrese el nombre del contacto a buscar: \")\n",
    "        agenda.buscar_contacto(nombre)\n",
    "    elif opcion == \"4\":\n",
    "        nombre = input(\"Ingrese el nombre del contacto a editar: \")\n",
    "        nuevo_telefono = input(\"Ingrese el nuevo teléfono del contacto: \")\n",
    "        nuevo_email = input(\"Ingrese el nuevo email del contacto: \")\n",
    "        agenda.editar_contacto(nombre, nuevo_telefono, nuevo_email)\n",
    "    elif opcion == \"5\":\n",
    "        print(\"Agenda cerrada. ¡Hasta luego!\")\n",
    "        break\n",
    "    else:\n",
    "        print(\"Opción no válida. Por favor, seleccione una opción válida.\")\n"
   ]
  },
  {
   "cell_type": "markdown",
   "metadata": {},
   "source": [
    "Ejercicio 6\n",
    "En un banco tienen clientes que pueden hacer depósitos y extracciones de dinero. El\n",
    "banco requiere también al final del día calcular la cantidad de dinero que se ha\n",
    "depositado.\n",
    "Se deberán crear dos clases, la clase cliente y la clase banco. La clase cliente tendrá los\n",
    "atributos nombre y cantidad y los métodos __init__, depositar, extraer, mostrar_total.\n",
    "La clase banco tendrá como atributos 3 objetos de la clase cliente y los métodos\n",
    "__init__, operar y deposito_total."
   ]
  },
  {
   "cell_type": "code",
   "execution_count": 8,
   "metadata": {},
   "outputs": [
    {
     "name": "stdout",
     "output_type": "stream",
     "text": [
      "Operaciones para Cliente 1:\n",
      "Cliente 1 ha depositado $10000.0.\n",
      "Saldo de Cliente 1: $10000.0\n",
      "Saldo de Cliente 1: $10000.0\n",
      "Depósito total en el banco: $10000.0\n"
     ]
    }
   ],
   "source": [
    "class Cliente:\n",
    "    def __init__(self, nombre):\n",
    "        self.nombre = nombre\n",
    "        self.cantidad = 0  # Inicialmente, el cliente no tiene dinero en su cuenta.\n",
    "\n",
    "    def depositar(self, cantidad):\n",
    "        if cantidad > 0:\n",
    "            self.cantidad += cantidad\n",
    "            print(f\"{self.nombre} ha depositado ${cantidad}.\")\n",
    "\n",
    "    def extraer(self, cantidad):\n",
    "        if cantidad > 0 and cantidad <= self.cantidad:\n",
    "            self.cantidad -= cantidad\n",
    "            print(f\"{self.nombre} ha extraído ${cantidad}.\")\n",
    "        else:\n",
    "            print(f\"{self.nombre} no puede extraer ${cantidad}. Saldo insuficiente.\")\n",
    "\n",
    "    def mostrar_total(self):\n",
    "        print(f\"Saldo de {self.nombre}: ${self.cantidad}\")\n",
    "\n",
    "\n",
    "class Banco:\n",
    "    def __init__(self):\n",
    "        self.clientes = []  # Inicialmente, el banco no tiene clientes.\n",
    "\n",
    "    def agregar_cliente(self, cliente):\n",
    "        self.clientes.append(cliente)\n",
    "\n",
    "    def operar(self):\n",
    "        for cliente in self.clientes:\n",
    "            print(f\"Operaciones para {cliente.nombre}:\")\n",
    "            while True:\n",
    "                opcion = input(\"1. Depositar / 2. Extraer / 3. Mostrar saldo / 4. Siguiente cliente / 5. Salir: \")\n",
    "                if opcion == \"1\":\n",
    "                    cantidad = float(input(\"Ingrese la cantidad a depositar: \"))\n",
    "                    cliente.depositar(cantidad)\n",
    "                elif opcion == \"2\":\n",
    "                    cantidad = float(input(\"Ingrese la cantidad a extraer: \"))\n",
    "                    cliente.extraer(cantidad)\n",
    "                elif opcion == \"3\":\n",
    "                    cliente.mostrar_total()\n",
    "                elif opcion == \"4\":\n",
    "                    break\n",
    "                elif opcion == \"5\":\n",
    "                    return\n",
    "                else:\n",
    "                    print(\"Opción no válida. Por favor, seleccione una opción válida.\")\n",
    "\n",
    "    def deposito_total(self):\n",
    "        total = sum(cliente.cantidad for cliente in self.clientes)\n",
    "        print(f\"Depósito total en el banco: ${total}\")\n",
    "\n",
    "\n",
    "cliente1 = Cliente(\"Cliente 1\")\n",
    "cliente2 = Cliente(\"Cliente 2\")\n",
    "cliente3 = Cliente(\"Cliente 3\")\n",
    "\n",
    "banco = Banco()\n",
    "banco.agregar_cliente(cliente1)\n",
    "banco.agregar_cliente(cliente2)\n",
    "banco.agregar_cliente(cliente3)\n",
    "\n",
    "banco.operar()\n",
    "\n",
    "banco.deposito_total()\n"
   ]
  },
  {
   "cell_type": "code",
   "execution_count": null,
   "metadata": {},
   "outputs": [],
   "source": []
  }
 ],
 "metadata": {
  "kernelspec": {
   "display_name": "Python 3",
   "language": "python",
   "name": "python3"
  },
  "language_info": {
   "codemirror_mode": {
    "name": "ipython",
    "version": 3
   },
   "file_extension": ".py",
   "mimetype": "text/x-python",
   "name": "python",
   "nbconvert_exporter": "python",
   "pygments_lexer": "ipython3",
   "version": "3.10.0"
  },
  "orig_nbformat": 4
 },
 "nbformat": 4,
 "nbformat_minor": 2
}
